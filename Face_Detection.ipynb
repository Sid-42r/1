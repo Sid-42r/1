{
  "nbformat": 4,
  "nbformat_minor": 0,
  "metadata": {
    "colab": {
      "provenance": [],
      "authorship_tag": "ABX9TyP7rKcU9JqkkBmKDVhu8Wa6",
      "include_colab_link": true
    },
    "kernelspec": {
      "name": "python3",
      "display_name": "Python 3"
    },
    "language_info": {
      "name": "python"
    }
  },
  "cells": [
    {
      "cell_type": "markdown",
      "metadata": {
        "id": "view-in-github",
        "colab_type": "text"
      },
      "source": [
        "<a href=\"https://colab.research.google.com/github/Sid-42r/1/blob/main/Face_Detection.ipynb\" target=\"_parent\"><img src=\"https://colab.research.google.com/assets/colab-badge.svg\" alt=\"Open In Colab\"/></a>"
      ]
    },
    {
      "cell_type": "code",
      "source": [
        "# Import required libraries\n",
        "import cv2\n",
        "import numpy as np\n",
        "import dlib\n",
        "\n",
        "\n",
        "# Connects to your computer's default camera\n",
        "cap = cv2.VideoCapture(0)\n",
        "\n",
        "\n",
        "# Detect the coordinates\n",
        "detector = dlib.get_frontal_face_detector()\n",
        "\n",
        "\n",
        "# Capture frames continuously\n",
        "while True:\n",
        "\n",
        "\t# Capture frame-by-frame\n",
        "\tret, frame = cap.read()\n",
        "\tframe = cv2.flip(frame, 1)\n",
        "\n",
        "\t# RGB to grayscale\n",
        "\tgray = cv2.cvtColor(frame, cv2.COLOR_BGR2GRAY)\n",
        "\tfaces = detector(gray)\n",
        "\n",
        "\t# Iterator to count faces\n",
        "\ti = 0\n",
        "\tfor face in faces:\n",
        "\n",
        "\t\t# Get the coordinates of faces\n",
        "\t\tx, y = face.left(), face.top()\n",
        "\t\tx1, y1 = face.right(), face.bottom()\n",
        "\t\tcv2.rectangle(frame, (x, y), (x1, y1), (0, 255, 0), 2)\n",
        "\n",
        "\t\t# Increment iterator for each face in faces\n",
        "\t\ti = i+1\n",
        "\n",
        "\t\t# Display the box and faces\n",
        "\t\tcv2.putText(frame, 'face num'+str(i), (x-10, y-10),\n",
        "\t\t\t\t\tcv2.FONT_HERSHEY_SIMPLEX, 0.7, (0, 0, 255), 2)\n",
        "\t\tprint(face, i)\n",
        "\n",
        "\t# Display the resulting frame\n",
        "\tcv2.imshow('frame', frame)\n",
        "\n",
        "\t# This command let's us quit with the \"q\" button on a keyboard.\n",
        "\tif cv2.waitKey(1) & 0xFF == ord('q'):\n",
        "\t\tbreak\n",
        "\n",
        "\n",
        "# Release the capture and destroy the windows\n",
        "cap.release()\n",
        "cv2.destroyAllWindows()\n"
      ],
      "metadata": {
        "id": "O3wJCigG8azX"
      },
      "execution_count": null,
      "outputs": []
    }
  ]
}