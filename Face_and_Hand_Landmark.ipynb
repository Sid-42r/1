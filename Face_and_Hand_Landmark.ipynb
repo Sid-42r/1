{
  "nbformat": 4,
  "nbformat_minor": 0,
  "metadata": {
    "colab": {
      "provenance": [],
      "authorship_tag": "ABX9TyN8DlmV//TQR+yiz58egU7i",
      "include_colab_link": true
    },
    "kernelspec": {
      "name": "python3",
      "display_name": "Python 3"
    },
    "language_info": {
      "name": "python"
    }
  },
  "cells": [
    {
      "cell_type": "markdown",
      "metadata": {
        "id": "view-in-github",
        "colab_type": "text"
      },
      "source": [
        "<a href=\"https://colab.research.google.com/github/Sid-42r/1/blob/main/Face_and_Hand_Landmark.ipynb\" target=\"_parent\"><img src=\"https://colab.research.google.com/assets/colab-badge.svg\" alt=\"Open In Colab\"/></a>"
      ]
    },
    {
      "cell_type": "code",
      "source": [
        "!pip install mediapipe"
      ],
      "metadata": {
        "colab": {
          "base_uri": "https://localhost:8080/"
        },
        "id": "Ffix4I90GTYL",
        "outputId": "4b861ea7-284d-4028-c3eb-e3add541a724"
      },
      "execution_count": 22,
      "outputs": [
        {
          "output_type": "stream",
          "name": "stdout",
          "text": [
            "Collecting mediapipe\n",
            "  Downloading mediapipe-0.10.14-cp310-cp310-manylinux_2_17_x86_64.manylinux2014_x86_64.whl (35.7 MB)\n",
            "\u001b[2K     \u001b[90m━━━━━━━━━━━━━━━━━━━━━━━━━━━━━━━━━━━━━━━━\u001b[0m \u001b[32m35.7/35.7 MB\u001b[0m \u001b[31m25.8 MB/s\u001b[0m eta \u001b[36m0:00:00\u001b[0m\n",
            "\u001b[?25hRequirement already satisfied: absl-py in /usr/local/lib/python3.10/dist-packages (from mediapipe) (1.4.0)\n",
            "Requirement already satisfied: attrs>=19.1.0 in /usr/local/lib/python3.10/dist-packages (from mediapipe) (23.2.0)\n",
            "Requirement already satisfied: flatbuffers>=2.0 in /usr/local/lib/python3.10/dist-packages (from mediapipe) (24.3.25)\n",
            "Requirement already satisfied: jax in /usr/local/lib/python3.10/dist-packages (from mediapipe) (0.4.26)\n",
            "Requirement already satisfied: jaxlib in /usr/local/lib/python3.10/dist-packages (from mediapipe) (0.4.26+cuda12.cudnn89)\n",
            "Requirement already satisfied: matplotlib in /usr/local/lib/python3.10/dist-packages (from mediapipe) (3.7.1)\n",
            "Requirement already satisfied: numpy in /usr/local/lib/python3.10/dist-packages (from mediapipe) (1.25.2)\n",
            "Requirement already satisfied: opencv-contrib-python in /usr/local/lib/python3.10/dist-packages (from mediapipe) (4.8.0.76)\n",
            "Collecting protobuf<5,>=4.25.3 (from mediapipe)\n",
            "  Downloading protobuf-4.25.3-cp37-abi3-manylinux2014_x86_64.whl (294 kB)\n",
            "\u001b[2K     \u001b[90m━━━━━━━━━━━━━━━━━━━━━━━━━━━━━━━━━━━━━━━━\u001b[0m \u001b[32m294.6/294.6 kB\u001b[0m \u001b[31m30.4 MB/s\u001b[0m eta \u001b[36m0:00:00\u001b[0m\n",
            "\u001b[?25hCollecting sounddevice>=0.4.4 (from mediapipe)\n",
            "  Downloading sounddevice-0.4.7-py3-none-any.whl (32 kB)\n",
            "Requirement already satisfied: CFFI>=1.0 in /usr/local/lib/python3.10/dist-packages (from sounddevice>=0.4.4->mediapipe) (1.16.0)\n",
            "Requirement already satisfied: ml-dtypes>=0.2.0 in /usr/local/lib/python3.10/dist-packages (from jax->mediapipe) (0.2.0)\n",
            "Requirement already satisfied: opt-einsum in /usr/local/lib/python3.10/dist-packages (from jax->mediapipe) (3.3.0)\n",
            "Requirement already satisfied: scipy>=1.9 in /usr/local/lib/python3.10/dist-packages (from jax->mediapipe) (1.11.4)\n",
            "Requirement already satisfied: contourpy>=1.0.1 in /usr/local/lib/python3.10/dist-packages (from matplotlib->mediapipe) (1.2.1)\n",
            "Requirement already satisfied: cycler>=0.10 in /usr/local/lib/python3.10/dist-packages (from matplotlib->mediapipe) (0.12.1)\n",
            "Requirement already satisfied: fonttools>=4.22.0 in /usr/local/lib/python3.10/dist-packages (from matplotlib->mediapipe) (4.53.0)\n",
            "Requirement already satisfied: kiwisolver>=1.0.1 in /usr/local/lib/python3.10/dist-packages (from matplotlib->mediapipe) (1.4.5)\n",
            "Requirement already satisfied: packaging>=20.0 in /usr/local/lib/python3.10/dist-packages (from matplotlib->mediapipe) (24.1)\n",
            "Requirement already satisfied: pillow>=6.2.0 in /usr/local/lib/python3.10/dist-packages (from matplotlib->mediapipe) (9.4.0)\n",
            "Requirement already satisfied: pyparsing>=2.3.1 in /usr/local/lib/python3.10/dist-packages (from matplotlib->mediapipe) (3.1.2)\n",
            "Requirement already satisfied: python-dateutil>=2.7 in /usr/local/lib/python3.10/dist-packages (from matplotlib->mediapipe) (2.8.2)\n",
            "Requirement already satisfied: pycparser in /usr/local/lib/python3.10/dist-packages (from CFFI>=1.0->sounddevice>=0.4.4->mediapipe) (2.22)\n",
            "Requirement already satisfied: six>=1.5 in /usr/local/lib/python3.10/dist-packages (from python-dateutil>=2.7->matplotlib->mediapipe) (1.16.0)\n",
            "Installing collected packages: protobuf, sounddevice, mediapipe\n",
            "  Attempting uninstall: protobuf\n",
            "    Found existing installation: protobuf 3.20.3\n",
            "    Uninstalling protobuf-3.20.3:\n",
            "      Successfully uninstalled protobuf-3.20.3\n",
            "\u001b[31mERROR: pip's dependency resolver does not currently take into account all the packages that are installed. This behaviour is the source of the following dependency conflicts.\n",
            "tensorflow-metadata 1.15.0 requires protobuf<4.21,>=3.20.3; python_version < \"3.11\", but you have protobuf 4.25.3 which is incompatible.\u001b[0m\u001b[31m\n",
            "\u001b[0mSuccessfully installed mediapipe-0.10.14 protobuf-4.25.3 sounddevice-0.4.7\n"
          ]
        }
      ]
    },
    {
      "cell_type": "code",
      "source": [
        "# Import Libraries\n",
        "import cv2\n",
        "import time\n",
        "import mediapipe as mp\n"
      ],
      "metadata": {
        "id": "Ub083-2eGQTy"
      },
      "execution_count": 23,
      "outputs": []
    },
    {
      "cell_type": "code",
      "source": [
        "# Grabbing the Holistic Model from Mediapipe and\n",
        "# Initializing the Model\n",
        "mp_holistic = mp.solutions.holistic\n",
        "holistic_model = mp_holistic.Holistic(\n",
        "\tmin_detection_confidence=0.5,\n",
        "\tmin_tracking_confidence=0.5\n",
        ")\n",
        "\n",
        "# Initializing the drawing utils for drawing the facial landmarks on image\n",
        "mp_drawing = mp.solutions.drawing_utils\n"
      ],
      "metadata": {
        "id": "ofO7Vda4GhAs"
      },
      "execution_count": 24,
      "outputs": []
    },
    {
      "cell_type": "code",
      "source": [
        "# (0) in VideoCapture is used to connect to your computer's default camera\n",
        "capture = cv2.VideoCapture(0)\n",
        "\n",
        "# Initializing current time and precious time for calculating the FPS\n",
        "previousTime = 0\n",
        "currentTime = 0\n",
        "\n",
        "while capture.isOpened():\n",
        "\t# capture frame by frame\n",
        "\tret, frame = capture.read()\n",
        "\n",
        "\t# resizing the frame for better view\n",
        "\tframe = cv2.resize(frame, (800, 600))\n",
        "\n",
        "\t# Converting the from BGR to RGB\n",
        "\timage = cv2.cvtColor(frame, cv2.COLOR_BGR2RGB)\n",
        "\n",
        "\t# Making predictions using holistic model\n",
        "\t# To improve performance, optionally mark the image as not writeable to\n",
        "\t# pass by reference.\n",
        "\timage.flags.writeable = False\n",
        "\tresults = holistic_model.process(image)\n",
        "\timage.flags.writeable = True\n",
        "\n",
        "\t# Converting back the RGB image to BGR\n",
        "\timage = cv2.cvtColor(image, cv2.COLOR_RGB2BGR)\n",
        "\n",
        "\t# Drawing the Facial Landmarks\n",
        "\tmp_drawing.draw_landmarks(\n",
        "\timage,\n",
        "\tresults.face_landmarks,\n",
        "\tmp_holistic.FACEMESH_CONTOURS,\n",
        "\tmp_drawing.DrawingSpec(\n",
        "\t\tcolor=(255,0,255),\n",
        "\t\tthickness=1,\n",
        "\t\tcircle_radius=1\n",
        "\t),\n",
        "\tmp_drawing.DrawingSpec(\n",
        "\t\tcolor=(0,255,255),\n",
        "\t\tthickness=1,\n",
        "\t\tcircle_radius=1\n",
        "\t)\n",
        "\t)\n",
        "\n",
        "\t# Drawing Right hand Land Marks\n",
        "\tmp_drawing.draw_landmarks(\n",
        "\timage,\n",
        "\tresults.right_hand_landmarks,\n",
        "\tmp_holistic.HAND_CONNECTIONS\n",
        "\t)\n",
        "\n",
        "\t# Drawing Left hand Land Marks\n",
        "\tmp_drawing.draw_landmarks(\n",
        "\timage,\n",
        "\tresults.left_hand_landmarks,\n",
        "\tmp_holistic.HAND_CONNECTIONS\n",
        "\t)\n",
        "\n",
        "\t# Calculating the FPS\n",
        "\tcurrentTime = time.time()\n",
        "\tfps = 1 / (currentTime-previousTime)\n",
        "\tpreviousTime = currentTime\n",
        "\n",
        "\t# Displaying FPS on the image\n",
        "\tcv2.putText(image, str(int(fps))+\" FPS\", (10, 70), cv2.FONT_HERSHEY_COMPLEX, 1, (0,255,0), 2)\n",
        "\n",
        "\t# Display the resulting image\n",
        "\tcv2.imshow(\"Facial and Hand Landmarks\", image)\n",
        "\n",
        "\t# Enter key 'q' to break the loop\n",
        "\tif cv2.waitKey(5) & 0xFF == ord('q'):\n",
        "\t\tbreak\n",
        "\n",
        "# When all the process is done\n",
        "# Release the capture and destroy all windows\n",
        "capture.release()\n",
        "cv2.destroyAllWindows()\n"
      ],
      "metadata": {
        "id": "utVHSU9uGlO9"
      },
      "execution_count": 25,
      "outputs": []
    },
    {
      "cell_type": "code",
      "source": [
        "# Code to access landmarks\n",
        "for landmark in mp_holistic.HandLandmark:\n",
        "\tprint(landmark, landmark.value)\n",
        "\n",
        "print(mp_holistic.HandLandmark.WRIST.value)\n"
      ],
      "metadata": {
        "colab": {
          "base_uri": "https://localhost:8080/"
        },
        "id": "aQaY1RaJGoDB",
        "outputId": "43121f80-85f6-46ba-d26a-ffb36d881a4b"
      },
      "execution_count": 26,
      "outputs": [
        {
          "output_type": "stream",
          "name": "stdout",
          "text": [
            "HandLandmark.WRIST 0\n",
            "HandLandmark.THUMB_CMC 1\n",
            "HandLandmark.THUMB_MCP 2\n",
            "HandLandmark.THUMB_IP 3\n",
            "HandLandmark.THUMB_TIP 4\n",
            "HandLandmark.INDEX_FINGER_MCP 5\n",
            "HandLandmark.INDEX_FINGER_PIP 6\n",
            "HandLandmark.INDEX_FINGER_DIP 7\n",
            "HandLandmark.INDEX_FINGER_TIP 8\n",
            "HandLandmark.MIDDLE_FINGER_MCP 9\n",
            "HandLandmark.MIDDLE_FINGER_PIP 10\n",
            "HandLandmark.MIDDLE_FINGER_DIP 11\n",
            "HandLandmark.MIDDLE_FINGER_TIP 12\n",
            "HandLandmark.RING_FINGER_MCP 13\n",
            "HandLandmark.RING_FINGER_PIP 14\n",
            "HandLandmark.RING_FINGER_DIP 15\n",
            "HandLandmark.RING_FINGER_TIP 16\n",
            "HandLandmark.PINKY_MCP 17\n",
            "HandLandmark.PINKY_PIP 18\n",
            "HandLandmark.PINKY_DIP 19\n",
            "HandLandmark.PINKY_TIP 20\n",
            "0\n"
          ]
        }
      ]
    }
  ]
}